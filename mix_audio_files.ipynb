{
 "cells": [
  {
   "cell_type": "code",
   "execution_count": null,
   "metadata": {},
   "outputs": [],
   "source": [
    "import os\n",
    "from pydub import AudioSegment\n",
    "\n",
    "def mix_audio(input_dir, output_dir, noise_file, mix_levels, skip_existing=True):\n",
    "    print(f\"Noise file: {noise_file}\")\n",
    "    # load noise\n",
    "    audio_noise = AudioSegment.from_file(noise_file)\n",
    "    noise_filename_base, _ = os.path.splitext(os.path.basename(noise_file))\n",
    "\n",
    "    for root, dirs, files in os.walk(input_dir):\n",
    "        # sort directories alphabetically\n",
    "        dirs.sort()\n",
    "        directory = os.path.basename(root)\n",
    "        print(f\"Processing directory: {directory}\")\n",
    "        for file in files:\n",
    "            if file.endswith('.wav'):\n",
    "                # load audio\n",
    "                audio_in = AudioSegment.from_file(os.path.join(root, file))\n",
    "                # mix and save file for every level\n",
    "                for level in mix_levels:\n",
    "                    output_file = os.path.join(output_dir, f\"{noise_filename_base}_{int(level*100)}\", directory, file)\n",
    "                    if not (skip_existing and os.path.exists(output_file)):\n",
    "                        mixed_audio = audio_in.overlay(audio_noise.apply_gain((1 - level) * -30), loop=True) # reduce by up to 30 dB\n",
    "                        os.makedirs(os.path.dirname(output_file), exist_ok=True)\n",
    "                        mixed_audio.export(output_file, format=\"wav\")\n",
    "                    \n",
    "\n",
    "input_dir = os.path.join(\"data\", \"audio\",\"Speech Commands\")\n",
    "output_dir = os.path.join(\"data\", \"audio\", \"Speech Commands_noise\")\n",
    "\n",
    "noise_file = os.path.join('data', 'audio', '_background_noise_', 'white_noise.wav')\n",
    "mix_levels = [.25]  # [.25, .5], etc\n",
    "\n",
    "mix_audio(input_dir, output_dir, noise_file, mix_levels, skip_existing=True)"
   ]
  }
 ],
 "metadata": {
  "kernelspec": {
   "display_name": "venv",
   "language": "python",
   "name": "python3"
  },
  "language_info": {
   "codemirror_mode": {
    "name": "ipython",
    "version": 3
   },
   "file_extension": ".py",
   "mimetype": "text/x-python",
   "name": "python",
   "nbconvert_exporter": "python",
   "pygments_lexer": "ipython3",
   "version": "3.11.10"
  }
 },
 "nbformat": 4,
 "nbformat_minor": 2
}
