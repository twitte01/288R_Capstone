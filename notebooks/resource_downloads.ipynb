{
 "cells": [
  {
   "cell_type": "code",
   "execution_count": 9,
   "metadata": {},
   "outputs": [
    {
     "name": "stderr",
     "output_type": "stream",
     "text": [
      "Retrieving folder contents\n"
     ]
    },
    {
     "name": "stdout",
     "output_type": "stream",
     "text": [
      "Retrieving folder 1W6zq4jfEhb_DULDuif80xmZ0X2PwYNJH ResNet_Initial_Model\n",
      "Processing file 1CaB_jpNJGLF2Zjg-zWP8vI2T8W2pmfIf best_model.pth\n",
      "Retrieving folder 1XIZlyHUF55WUrJiZa641Z-gFZOPk4f1w VGG_Hyperparameter_Tuned_Models\n",
      "Processing file 17nWX4b7PJGy8HHwbWezFE_v62xxUwroe best_model.pth\n",
      "Processing file 1O-SHJd6Ei2Vnv9XZ9p2uDTotwcNs2Ya7 model_lr=0.001_opt=Adam_wd=1e-05_freeze=True.pth\n",
      "Processing file 1KReLjHXFPXBTZV3j2RFU0_72pC858mvO model_lr=0.001_opt=SGD_wd=0_freeze=False.pth\n",
      "Processing file 1gCwMfzYzbzWQOM3mL3gi1zgvuCetc1Dp model_lr=0.001_opt=SGD_wd=0.0001_freeze=False.pth\n",
      "Retrieving folder 1ZgHZrz15Z48R9ppT_KPUH797UtXugz04 VGG_Initial_Model\n",
      "Processing file 1P3PzGUauTs_TEFExoL9qzIH2dXmIwE2x best_model.pth\n"
     ]
    },
    {
     "name": "stderr",
     "output_type": "stream",
     "text": [
      "Retrieving folder contents completed\n",
      "Building directory structure\n",
      "Building directory structure completed\n",
      "Downloading...\n",
      "From (original): https://drive.google.com/uc?id=1CaB_jpNJGLF2Zjg-zWP8vI2T8W2pmfIf\n",
      "From (redirected): https://drive.google.com/uc?id=1CaB_jpNJGLF2Zjg-zWP8vI2T8W2pmfIf&confirm=t&uuid=7050e68b-d0df-4996-9a7b-832affa052f8\n",
      "To: /Users/ryan/projects/UCSD Master of Data Science/capstone/src/notebooks/downloads/ResNet_Initial_Model/best_model.pth\n",
      "100%|██████████| 136M/136M [00:02<00:00, 64.7MB/s] \n",
      "Downloading...\n",
      "From (original): https://drive.google.com/uc?id=17nWX4b7PJGy8HHwbWezFE_v62xxUwroe\n",
      "From (redirected): https://drive.google.com/uc?id=17nWX4b7PJGy8HHwbWezFE_v62xxUwroe&confirm=t&uuid=ab168dcc-af74-4052-acf3-f1dc3f36511a\n",
      "To: /Users/ryan/projects/UCSD Master of Data Science/capstone/src/notebooks/downloads/VGG_Hyperparameter_Tuned_Models/best_model.pth\n",
      "100%|██████████| 61.0M/61.0M [00:00<00:00, 62.4MB/s]\n",
      "Downloading...\n",
      "From (original): https://drive.google.com/uc?id=1O-SHJd6Ei2Vnv9XZ9p2uDTotwcNs2Ya7\n",
      "From (redirected): https://drive.google.com/uc?id=1O-SHJd6Ei2Vnv9XZ9p2uDTotwcNs2Ya7&confirm=t&uuid=c951fdb8-a272-4078-921c-fe7849803222\n",
      "To: /Users/ryan/projects/UCSD Master of Data Science/capstone/src/notebooks/downloads/VGG_Hyperparameter_Tuned_Models/model_lr=0.001_opt=Adam_wd=1e-05_freeze=True.pth\n",
      "100%|██████████| 61.0M/61.0M [00:01<00:00, 49.1MB/s]\n",
      "Downloading...\n",
      "From (original): https://drive.google.com/uc?id=1KReLjHXFPXBTZV3j2RFU0_72pC858mvO\n",
      "From (redirected): https://drive.google.com/uc?id=1KReLjHXFPXBTZV3j2RFU0_72pC858mvO&confirm=t&uuid=9301960e-c6b5-4667-8626-4f5685e6205a\n",
      "To: /Users/ryan/projects/UCSD Master of Data Science/capstone/src/notebooks/downloads/VGG_Hyperparameter_Tuned_Models/model_lr=0.001_opt=SGD_wd=0_freeze=False.pth\n",
      "100%|██████████| 61.0M/61.0M [00:00<00:00, 63.9MB/s]\n",
      "Downloading...\n",
      "From (original): https://drive.google.com/uc?id=1gCwMfzYzbzWQOM3mL3gi1zgvuCetc1Dp\n",
      "From (redirected): https://drive.google.com/uc?id=1gCwMfzYzbzWQOM3mL3gi1zgvuCetc1Dp&confirm=t&uuid=93973860-0443-4b34-acea-141f017b23ab\n",
      "To: /Users/ryan/projects/UCSD Master of Data Science/capstone/src/notebooks/downloads/VGG_Hyperparameter_Tuned_Models/model_lr=0.001_opt=SGD_wd=0.0001_freeze=False.pth\n",
      "100%|██████████| 61.0M/61.0M [00:00<00:00, 61.1MB/s]\n",
      "Downloading...\n",
      "From (original): https://drive.google.com/uc?id=1P3PzGUauTs_TEFExoL9qzIH2dXmIwE2x\n",
      "From (redirected): https://drive.google.com/uc?id=1P3PzGUauTs_TEFExoL9qzIH2dXmIwE2x&confirm=t&uuid=fef556c8-3484-46c9-84d2-0e816a9c02a7\n",
      "To: /Users/ryan/projects/UCSD Master of Data Science/capstone/src/notebooks/downloads/VGG_Initial_Model/best_model.pth\n",
      "100%|██████████| 183M/183M [00:02<00:00, 68.7MB/s] \n",
      "Download completed\n"
     ]
    },
    {
     "data": {
      "text/plain": [
       "['./downloads/ResNet_Initial_Model/best_model.pth',\n",
       " './downloads/VGG_Hyperparameter_Tuned_Models/best_model.pth',\n",
       " './downloads/VGG_Hyperparameter_Tuned_Models/model_lr=0.001_opt=Adam_wd=1e-05_freeze=True.pth',\n",
       " './downloads/VGG_Hyperparameter_Tuned_Models/model_lr=0.001_opt=SGD_wd=0_freeze=False.pth',\n",
       " './downloads/VGG_Hyperparameter_Tuned_Models/model_lr=0.001_opt=SGD_wd=0.0001_freeze=False.pth',\n",
       " './downloads/VGG_Initial_Model/best_model.pth']"
      ]
     },
     "execution_count": 9,
     "metadata": {},
     "output_type": "execute_result"
    }
   ],
   "source": [
    "import os\n",
    "import gdown\n",
    "\n",
    "os.makedirs(\"./downloads\", exist_ok=True)\n",
    "\n",
    "gdown.download_folder(\n",
    "    \"https://drive.google.com/drive/folders/1h221VIO5CCULfILO41PK7T3nIUq2Yisr\",\n",
    "    output=\"./downloads\",\n",
    "    quiet=False\n",
    ")\n"
   ]
  }
 ],
 "metadata": {
  "kernelspec": {
   "display_name": "venv",
   "language": "python",
   "name": "python3"
  },
  "language_info": {
   "codemirror_mode": {
    "name": "ipython",
    "version": 3
   },
   "file_extension": ".py",
   "mimetype": "text/x-python",
   "name": "python",
   "nbconvert_exporter": "python",
   "pygments_lexer": "ipython3",
   "version": "3.11.10"
  }
 },
 "nbformat": 4,
 "nbformat_minor": 2
}
